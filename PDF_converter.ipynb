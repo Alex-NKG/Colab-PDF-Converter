{
  "nbformat": 4,
  "nbformat_minor": 0,
  "metadata": {
    "colab": {
      "name": "PDF_converter.ipynb",
      "provenance": [],
      "collapsed_sections": [],
      "authorship_tag": ""
    },
    "kernelspec": {
      "name": "python3",
      "display_name": "Python 3"
    }
  },
  "cells": [
    {
      "cell_type": "markdown",
      "metadata": {
        "id": "LxCSUHVdqPwD",
        "colab_type": "text"
      },
      "source": [
        "#Jupyter notebook 文件格式转换\n",
        "##Author: ALEX_NKG"
      ]
    },
    {
      "cell_type": "code",
      "metadata": {
        "id": "OAhroL40BjBC",
        "colab_type": "code",
        "colab": {}
      },
      "source": [
        "import os\n",
        "print(\"欢迎使用Jupyter notebook 格式转换程序！\\n\")\n",
        "path = input(\"请输入绝对路径:\\n\\n\")\n",
        "print(\"文件路径：\",path,\"\\n\\n\",\"处理中。。。。。\\n\\n\")\n",
        "os.system(\"apt-get install texlive texlive-xetex texlive-latex-extra pandoc\")\n",
        "os.system(\"install pypandoc\")\n",
        "if os.system(\"jupyter nbconvert --to PDF {}\".format(path))==0:\n",
        "  print ('文件转换完成！请在相同目录下寻找PDF文件！')\n",
        "  \n"
      ],
      "execution_count": 0,
      "outputs": []
    }
  ]
}
