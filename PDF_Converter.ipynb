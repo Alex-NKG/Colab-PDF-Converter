{
  "nbformat": 4,
  "nbformat_minor": 0,
  "metadata": {
    "colab": {
      "name": "PDF_converter.ipynb",
      "provenance": [],
      "collapsed_sections": [],
      "mount_file_id": "1Yy-QllbAduC_5MffnekBVVtTbY5XcBII",
      "authorship_tag": "ABX9TyM/rtCP1X9v3Z4GW8o4xi+C",
      "include_colab_link": true
    },
    "kernelspec": {
      "name": "python3",
      "display_name": "Python 3"
    }
  },
  "cells": [
    {
      "cell_type": "markdown",
      "metadata": {
        "id": "view-in-github",
        "colab_type": "text"
      },
      "source": [
        "<a href=\"https://colab.research.google.com/github/Alex-NKG/Colab-PDF-Converter/blob/master/PDF_Converter.ipynb\" target=\"_parent\"><img src=\"https://colab.research.google.com/assets/colab-badge.svg\" alt=\"Open In Colab\"/></a>"
      ]
    },
    {
      "cell_type": "markdown",
      "metadata": {
        "id": "LxCSUHVdqPwD",
        "colab_type": "text"
      },
      "source": [
        "#Jupyter notebook 文件格式转换\n",
        "##Author: ALEX_NKG"
      ]
    },
    {
      "cell_type": "code",
      "metadata": {
        "id": "OAhroL40BjBC",
        "colab_type": "code",
        "outputId": "1bc2ebbd-b280-40b8-ef8b-6991c1bea548",
        "colab": {
          "base_uri": "https://localhost:8080/",
          "height": 187
        }
      },
      "source": [
        "import os\n",
        "print(\"欢迎使用Jupyter notebook 格式转换程序！\\n\")\n",
        "path = input(\"请输入绝对路径:\\n\")\n",
        "print(\"文件路径：\",path,\"\\n\\n\",\"处理中。。。。。\\n\\n\")\n",
        "os.system(\"apt-get install texlive texlive-xetex texlive-latex-extra pandoc\")\n",
        "os.system(\"pip install pypandoc\")\n",
        "if os.system(\"jupyter nbconvert --to PDF \"+\"\\\"\"+os.path.abspath(path)+\"\\\"\")==0:\n",
        "  print ('文件转换完成！请在相同目录下寻找PDF文件！')\n",
        "  \n"
      ],
      "execution_count": 51,
      "outputs": [
        {
          "output_type": "stream",
          "text": [
            "欢迎使用Jupyter notebook 格式转换程序！\n",
            "\n",
            "请输入绝对路径:\n",
            "/content/drive/My Drive/Colab Notebooks/HW4.ipynb\n",
            "文件路径： /content/drive/My Drive/Colab Notebooks/HW4.ipynb \n",
            "\n",
            " 处理中。。。。。\n",
            "\n",
            "\n",
            "文件转换完成！请在相同目录下寻找PDF文件！\n"
          ],
          "name": "stdout"
        }
      ]
    }
  ]
}